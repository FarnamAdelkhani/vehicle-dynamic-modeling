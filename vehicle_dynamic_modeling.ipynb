{
 "cells": [
  {
   "cell_type": "markdown",
   "id": "81f7db96-fa72-4492-ad25-476e74d022d3",
   "metadata": {
    "tags": []
   },
   "source": [
    "## Vehicle Dynamic Modeling - Motion/Path Planning with Bicycle Model\n",
    "Farnam Adelkhani"
   ]
  },
  {
   "cell_type": "markdown",
   "id": "b9048486-9437-4402-aba1-658ae1f8dc90",
   "metadata": {},
   "source": [
    "---"
   ]
  },
  {
   "cell_type": "markdown",
   "id": "70cc4183-097d-4834-a092-2b4254406358",
   "metadata": {},
   "source": [
    "<b>Goals: </b>\n",
    "- Study the basics of coordinate frames and kinematics\n",
    "- Develop a kinematic model for cars known as the bicycle model  \n",
    "- Explore the basics of dynamic modeling\n",
    "- Develop a longitudinal and lateral vehicle dynamic model\n",
    "- Create actuator models for steering\n",
    "- Throttle and break\n",
    "- Study tire slip and tire modeling"
   ]
  },
  {
   "cell_type": "markdown",
   "id": "d412184d-ec26-48ed-93eb-e8d846ab9015",
   "metadata": {},
   "source": [
    "---"
   ]
  },
  {
   "cell_type": "markdown",
   "id": "7ad6b206-4d95-4b92-bf41-15b2b6d0254b",
   "metadata": {},
   "source": [
    "<b>Resources:</b>  \n",
    "[Lateral Dynamics of Bicycle Model](https://www.springer.com/cda/content/document/cda_downloaddocument/9781461414322-c1.pdf?SGWID=0-0-45-1265143-p174267791)  \n",
    "\n",
    "[The kinematic bicycle model: A consistent model for planning feasible trajectories for autonomous vehicles?](https://www.researchgate.net/publication/318810853_The_kinematic_bicycle_model_A_consistent_model_for_planning_feasible_trajectories_for_autonomous_vehicles)\n",
    "\n",
    "[Classical Dynamics](http://www.damtp.cam.ac.uk/user/tong/dynamics/clas.pdf)\n",
    "\n",
    "[Vehicle Modeling](https://publications.lib.chalmers.se/records/fulltext/244369/244369.pdf)"
   ]
  },
  {
   "cell_type": "markdown",
   "id": "ab0ec96a-4654-4491-adfa-ffc9c4df9867",
   "metadata": {},
   "source": [
    "---"
   ]
  },
  {
   "cell_type": "markdown",
   "id": "b8ecb60e-872e-4c32-90ce-8264566ef6f5",
   "metadata": {},
   "source": [
    "### <u><a id= 'sampletag'>Kinematic Modeling in 2D</a></u>"
   ]
  },
  {
   "cell_type": "markdown",
   "id": "cf8392e3-996a-439e-b31f-f9b80c9e40c2",
   "metadata": {},
   "source": [
    "Kinematic vs Dynamic Modeling\n",
    "- At low speeds, kinemtic models can be sufficient.\n",
    "- Dynamic Modeling is more involved, but captures vehicle behavior more precisely over a wide operating range."
   ]
  },
  {
   "cell_type": "markdown",
   "id": "b0e89eec-b39b-452f-8b98-3f0eebec234c",
   "metadata": {},
   "source": [
    "<b>Coordinate Frames in Robotics:</b>  \n",
    "(Right handed by convention)\n",
    "- Inertial frame - fixed, usually relative to earth\n",
    "- Body frame - attached to vehicle, origin at vehicle center of gravity, or center of rotation\n",
    "- Sensor frame - attached to sensor, convenient for expressing sensor measurements  \n",
    "\n",
    "<img src=\"https://i.imgur.com/6URnAJa.png\" width =\"800\">  \n",
    "<br><br>  \n",
    "\n",
    "In robotics, we are often required to connect several coordinate frames to our system. In the autonomous vehicle pictured below for example.  \n",
    "Thus, we must transform variables from one coordinate frame to another. For example, from the body frame to an inertial frame.\n",
    "\n",
    "<img src=\"https://i.imgur.com/vzsRArW.png\" width =\"500\">"
   ]
  },
  {
   "cell_type": "markdown",
   "id": "c0abcca7-77bb-47ae-a3f4-0935a127e356",
   "metadata": {},
   "source": [
    "Assume the coordinate frames, frames 'e' and 'b', pictured below have the same fixed origin.  \n",
    "Frame b is rotated by some angle, Θ, relative to frame e.  \n",
    "\n",
    "\n",
    "\n",
    "<br><b>Rotation Matrices in 2D:</b> <br>  \n",
    "$\\begin{equation*}\n",
    "C_{E,B} = \n",
    "\\begin{bmatrix}\n",
    "cosΘ & sinΘ\\\\\n",
    "-sinΘ & cosΘ\n",
    "\\end{bmatrix}\n",
    "\\hspace{15 mm}\n",
    "C_{B,E} =    \n",
    "\\begin{bmatrix}\n",
    "cosΘ & -sinΘ\\\\\n",
    "sinΘ & cosΘ\n",
    "\\end{bmatrix}\n",
    "\\end{equation*}$\n"
   ]
  },
  {
   "cell_type": "markdown",
   "id": "10862ab1-9438-44d0-b8ef-d01777b39a4a",
   "metadata": {},
   "source": [
    "<br><img src=\"https://i.imgur.com/lCRM5A6.png\" width =\"300\">"
   ]
  },
  {
   "cell_type": "markdown",
   "id": "6b6b52d6-661c-4cb4-b2bd-8307922f4a95",
   "metadata": {},
   "source": [
    "---"
   ]
  },
  {
   "cell_type": "markdown",
   "id": "d51df32c-f585-4920-836e-c5515a8bfd10",
   "metadata": {},
   "source": [
    "<b>Extending the prior example to include a translation:</b>  \n",
    "For the 2-wheeled robot below, we'd like to represent the position of a point 'P' observed by the robot in the robot body frame 'b', with respect to the inertial frame e.  \n",
    "The position of the robot, with respect to the inertial frame is x and y, while the orientation is once again theta(Θ).\n",
    "\n",
    "<img src = \"https://i.imgur.com/WpFLiiP.png\" width =\"400\">\n"
   ]
  },
  {
   "cell_type": "markdown",
   "id": "1e6f7a81-0baa-45b0-9158-1c9405a1ac1b",
   "metadata": {
    "tags": []
   },
   "source": [
    "The following equations relate the location of point P in the body coordinates (P_B) and the inertial frame (P_E).  \n",
    "\n",
    "Note: In general, to transform one point from one coordinate to another coordinate frame, body to inertial and vice versa, requires two terms.\n",
    "The translation of the origin O_EB and O_BE in this case, and the rotation of the axis C_EB and C_BE  \n",
    "\n",
    "$\\begin{equation*}  \n",
    "P_{B} = C_{E,B}(Θ)P_E + O_{E,B} \n",
    "\\end{equation*}$\n",
    "\n",
    "$\\begin{equation*}  \n",
    "P_{E} = C_{B,E}(Θ)P_B + O_{B,E} \n",
    "\\end{equation*}$"
   ]
  },
  {
   "cell_type": "markdown",
   "id": "6f7f3ce2-17a8-45de-b805-c927cfe0a35a",
   "metadata": {},
   "source": [
    "We can summarize the transformation between two coordinate frames using homogeneous coordinates.  \n",
    "This leads to a compact matrix multiplication to apply the transformation.  \n",
    "\n",
    "We extend our location vector to include x,y,and 1 and can then extend from body to inertial coordinates using P_E.  \n",
    "\n",
    "<br><b>Homogeneous coordinate form:</b>   \n",
    "A 2D vector in homogeneous form  \n",
    "\n",
    "$\\begin{equation*}\n",
    "P = \n",
    "\\begin{bmatrix}\n",
    "X\\\\\n",
    "Y\n",
    "\\end{bmatrix}\n",
    "\\hspace{5 mm}\n",
    "==>\n",
    "\\hspace{5 mm}\n",
    "\\bar P  =    \n",
    "\\begin{bmatrix}\n",
    "X\\\\\n",
    "Y\\\\\n",
    "1\n",
    "\\end{bmatrix}\n",
    "\\end{equation*}$\n",
    "\n",
    "\n",
    "<b>Transforming a point from body to inertial coordinates with homogeneous coordinates</b>  \n",
    "<br>\n",
    "$\\begin{equation*}\n",
    "\\bar P_{E} = [\\mspace{5mu}C_{EB} \\mspace{3mu}(Θ) \\mspace{10mu} | \\mspace{10mu} O_{EB}\\mspace{5mu} ] \\mspace{10mu} \\bar P_{B}\n",
    "\\end{equation*}$"
   ]
  },
  {
   "cell_type": "markdown",
   "id": "59abeb62-d5e2-464d-9d87-438315f64187",
   "metadata": {},
   "source": [
    "---"
   ]
  },
  {
   "cell_type": "markdown",
   "id": "f6cdf28a-68bd-4c57-91b9-0938d8ff734a",
   "metadata": {},
   "source": [
    "#### <b>2D Kinematic Modeling:</b>"
   ]
  },
  {
   "cell_type": "markdown",
   "id": "adcfc92c-b1ac-4366-9179-885835d0436f",
   "metadata": {},
   "source": [
    "The kinematic constraint is nonholonomic.  \n",
    "    - A constraint on rate of change of degrees of freedom.  \n",
    "    - Robot velocity is defined by its tangent vector to the path.  \n",
    "\n",
    "$\\begin{equation*}\n",
    "\\begin{bmatrix}\n",
    "dy\\\\\n",
    "dx\n",
    "\\end{bmatrix}\n",
    "= tan~Θ = \n",
    "\\begin{bmatrix}\n",
    "sin(Θ)\\\\\n",
    "cos(Θ)\n",
    "\\end{bmatrix}\n",
    "= robot~velocity~in~[~y-direction~/~x-direction~]\n",
    "\\end{equation*}$\n",
    "\n",
    "<img src = \"https://i.imgur.com/6BUfSzE.png\" width=\"400\">"
   ]
  },
  {
   "cell_type": "markdown",
   "id": "6b4dd23f-4ef9-46d0-b29d-31909745faba",
   "metadata": {},
   "source": [
    "Robot motion is constraint to go forward since its wheels are pointing in that direction.  \n",
    "This is known as a <b>nonholonomic</b> constrain."
   ]
  },
  {
   "cell_type": "markdown",
   "id": "e9c8d140-6af6-4c0b-8f95-b7e2fe5fe036",
   "metadata": {},
   "source": [
    "<b>Nonholonomic constraint:</b>  \n",
    "$\\begin{equation*}\n",
    "\\dot y~cos~Θ - \\dot x~sin~Θ = 0\n",
    "\\end{equation*}$"
   ]
  },
  {
   "cell_type": "markdown",
   "id": "63ba5b1b-9eb2-4b08-bc94-cfc04b7e092f",
   "metadata": {},
   "source": [
    "<b>Equations for the motion of the robot by combining the above equations.</b>  \n",
    "<b>Velocity components:</b>  \n",
    "$\\begin{equation*}\n",
    "\\dot x = v~cos~Θ\\\\\n",
    "\\dot y = v~sin~Θ\n",
    "\\end{equation*}$"
   ]
  },
  {
   "cell_type": "markdown",
   "id": "7b1ad353-bb57-4548-af38-aa67a9c49c09",
   "metadata": {},
   "source": [
    "---"
   ]
  },
  {
   "cell_type": "markdown",
   "id": "ae3e548f-8b3c-4347-ab82-9252fd530d7d",
   "metadata": {},
   "source": [
    "<b>Overview of the model described above.</b>  \n",
    "<img src= \"https://i.imgur.com/ZuDLz80.png\" width= \"500\">"
   ]
  },
  {
   "cell_type": "markdown",
   "id": "3516bb54-091b-43ff-a5f3-751583b30c29",
   "metadata": {},
   "source": [
    "This model takes as input the forward velocity in rotation rate and represents the robot using a vector of three states, the x & y position of the robot, and it's heading."
   ]
  },
  {
   "cell_type": "markdown",
   "id": "82d6c774-4a46-4d3c-aa2e-a41a45c25a4a",
   "metadata": {},
   "source": [
    "---"
   ]
  },
  {
   "cell_type": "markdown",
   "id": "6c9370fa-784a-49b8-95cb-eef38c847eed",
   "metadata": {},
   "source": [
    "Let's define what we mean by a state, a state is a set of variables often arranged in the form of a vector that fully describe the system at a moment in time."
   ]
  },
  {
   "cell_type": "markdown",
   "id": "3c0b1151-6166-445a-b7b0-38c7c36de845",
   "metadata": {},
   "source": [
    "<img src= \"https://i.imgur.com/8IjyQUF.png\" width=\"500\">\n",
    "\n",
    "<b><u>**Revisit this section for details on the two-wheeler kinematic model</u></b>"
   ]
  },
  {
   "cell_type": "markdown",
   "id": "7e5cdab8-37e2-4e16-93f8-1fc7f06aa1e8",
   "metadata": {},
   "source": [
    "---"
   ]
  },
  {
   "cell_type": "markdown",
   "id": "38754ce0-f128-40c9-adb2-18f111bf0723",
   "metadata": {},
   "source": [
    "Module Summary:\n",
    "- Covered 2D kinematics  \n",
    "- Coordinate frames and transformations  \n",
    "- Continuous and discrete kinematic model of a two wheeled robot  \n",
    "\n",
    "Next, kinematic formulation of a bicycle model."
   ]
  },
  {
   "cell_type": "markdown",
   "id": "862fbfd4-3581-4519-b3c1-676236b6b73a",
   "metadata": {},
   "source": [
    "---"
   ]
  },
  {
   "cell_type": "markdown",
   "id": "05aa37ef-778f-4638-bb6f-29b257da7d04",
   "metadata": {},
   "source": [
    "### <u>The kinematic bicycle model</u>"
   ]
  },
  {
   "cell_type": "markdown",
   "id": "9965fc29-5bd0-4337-b648-6f68189714c5",
   "metadata": {},
   "source": [
    "<b>We will develop a kinematic bicycle model to capture vehicle motion with steering rates and velocity inputs.  \n",
    "\n",
    "Does well as a control oriented model for representing vehicles for its simplicity and adherence to the nonholonomic constraints of a car.\n",
    "\n",
    "Additional variables, on top of the ones from 2-wheel model.\n",
    "- Front wheel orientation can be controlled relative to the heading of the vehicle.\n",
    "- Assume vehicle operates on a 2D plane as denoted by Fi.\n",
    "- We must select a reference point (X,Y) that can be placed at the center of the rear axel, center of the front axel, or the center of gravity Cg. <b> The selection of the reference point changes the kinematic equations that result, which in turn will change the controller designs that will be used. "
   ]
  },
  {
   "cell_type": "markdown",
   "id": "b9ffe432-9107-4590-b8b2-b1b67ec36364",
   "metadata": {},
   "source": [
    "<img src= \"https://i.imgur.com/wIcxrgN.png\" width= \"500\">"
   ]
  },
  {
   "cell_type": "markdown",
   "id": "18e0403c-d940-4016-88b9-80037f88f6ab",
   "metadata": {},
   "source": [
    "---"
   ]
  },
  {
   "cell_type": "markdown",
   "id": "739d8317-d24f-433c-9d38-a3b1fe5707f0",
   "metadata": {},
   "source": [
    "<b>Rear Axel Reference Point Model</b>\n",
    "- We will denote the location of the rear axel reference point as Xr Yr and heading of the bicycle as Theta.\n",
    "- L represents the length of the bicycle, measured between the two wheel axis.\n",
    "\n",
    "<b>Difference in inputs between bicycle model and 2-wheeled robot model\n",
    "- We need to define a steering angle for the front wheel (Delta).\n",
    "\n",
    "<b><u>Kinematics for rear axel reference point model</u></b>  \n",
    "<b>Apply instantaneous center of rotation (ICR):</b>  \n",
    "<i>Because of the no slip condition, we once again have that Omega, the rotation rate of the bicycle, is equal to the velocity over the instantaneous center of rotation, radius R.</i><br>\n",
    "$\\begin {equation*}\n",
    "\\dot Θ = \\omega = \\frac{v}{r}\n",
    "\\end {equation*}$\n",
    "    \n",
    "<b>Similar triangles:</b><br>\n",
    "<i>Tan of Delta is equal to the wheelbase L over the instantaneous turn radius R.</i><br>\n",
    "$\\begin {equation*}\n",
    "tan~δ = \\frac{L}{R}\n",
    "\\end {equation*}$\n",
    "    \n",
    "<b>Rotation rate equation:</b>  \n",
    "<i>Combining both equations, we can find the relation between the rotation rate of the vehicle Omega, and the steering angle Delta, as Omega equals v tan Delta over L.</i><br>\n",
    "$\\begin {equation*}\n",
    "\\dot Θ = \\omega = \\frac{v}{r} = \\frac{v~tan~δ}{L}\n",
    "\\end {equation*}$\n",
    "    \n",
    "<img src= \"https://i.imgur.com/yRDkaL0.png\" width= \"400\">"
   ]
  },
  {
   "cell_type": "markdown",
   "id": "b4f92a3d-3f97-40ad-91d0-08fb46e40c49",
   "metadata": {},
   "source": [
    "---"
   ]
  },
  {
   "cell_type": "markdown",
   "id": "b4ea5c53-7bc3-4cd0-9c08-974393d70513",
   "metadata": {
    "tags": []
   },
   "source": [
    "<b><u>Forming the full kinematic bicycle model for the rear axle reference point.</u></b>\n",
    "\n",
    "Based on this model configuration, the velocity components of the reference point in the x and y direction are equal to the forward velocity v times cos Theta and sine Theta respectively:<br>\n",
    "\n",
    "$\\begin{equation*}\n",
    "\\dot X_{r}= v~cos~Θ\n",
    "\\end{equation*}$\n",
    "\n",
    "$\\begin{equation*}\n",
    "\\dot Y_{r}= v~sin~Θ\n",
    "\\end{equation*}$\n",
    "\n",
    "<br>These two equations are combined with the equation for rotation rate derived previously to form the rear axle bicycle model.<br>\n",
    "\n",
    "$\\begin{equation*}\n",
    "\\dot Θ= \\frac{v~tan~Θ}{L}\n",
    "\\end{equation*}$\n",
    "\n",
    "<br>\n",
    "<img src= \"https://i.imgur.com/oLcxCyY.png\" width= \"400\">"
   ]
  },
  {
   "cell_type": "markdown",
   "id": "1be26f06-3dad-4619-9bba-a38cc5678873",
   "metadata": {},
   "source": [
    "---"
   ]
  },
  {
   "cell_type": "markdown",
   "id": "f7edb82f-6d15-44c5-85b3-5a7f9e303caa",
   "metadata": {},
   "source": [
    "TODO:  \n",
    "Revisit this section:  \n",
    "- last scenario is when the desired point is placed at the center of gravity or center of mass.\n",
    "- lastly, because of the no slip condition, we can compute the slip angle from the geometry of our bicycle model. \n",
    "    - Calculating the slip ratio\n",
    "- We cannot change steering angle from one extreme to another as is currently possible with our model, so we can formulate our model with 4 states ... we can only control the rate of change of the steering angle, Phi."
   ]
  },
  {
   "cell_type": "markdown",
   "id": "c0994ffb-d06c-44c8-b9b6-be56ddeb2e6f",
   "metadata": {},
   "source": [
    "<b>Module Summary:</b>  \n",
    "- Formulated the kinematic model of a bicycle for three different reference points on that vehicle.  \n",
    "- We also introduced the concept of slip angle.\n",
    "\n",
    "<b>We can now use this model to design kinematic steering controllers as we'll see in a later module in this course.</b>"
   ]
  },
  {
   "cell_type": "markdown",
   "id": "9a484d00-afb5-4913-b004-39c059d6e691",
   "metadata": {},
   "source": [
    "---"
   ]
  },
  {
   "cell_type": "markdown",
   "id": "d365d01d-89c9-44d0-9244-347ec87ef542",
   "metadata": {},
   "source": [
    "The bicycle kinematics are governed by the following set of equations:<br>\n",
    "ie: A set of equations that describe the motion of the vehicle.<br>\n",
    "meaning the evolution of the coordinates x and y over time(t)<br>\n",
    "and the evolution of yaw angle si over time(t)<br>\n",
    "\n",
    "Assuming a constant velocity v:\n",
    "\n",
    "\\begin{align*}\n",
    "\\dot{x}_c &= v \\cos{(\\theta + \\beta)} \\\\\n",
    "\\dot{y}_c &= v \\sin{(\\theta + \\beta)} \\\\\n",
    "\\dot{\\theta} &= \\frac{v \\cos{\\beta} \\tan{\\delta}}{L} \\\\\n",
    "\\dot{\\delta} &= \\omega \\\\\n",
    "\\beta &= \\tan^{-1}(\\frac{l_r \\tan{\\delta}}{L})\n",
    "\\end{align*}\n",
    "\n",
    "<b>Inputs:</b>\n",
    "- v => Bicycle speed\n",
    "- 𝜔 => Steering angle rate\n",
    "- 𝛿 => Steering angle (Model allows for angle and rate)\n",
    "\n"
   ]
  },
  {
   "cell_type": "code",
   "execution_count": 8,
   "id": "724fd208-c38e-4bb6-ba05-6662ce8cb33d",
   "metadata": {
    "collapsed": true,
    "jupyter": {
     "outputs_hidden": true
    },
    "tags": []
   },
   "outputs": [
    {
     "ename": "ModuleNotFoundError",
     "evalue": "No module named 'notebook_grader'",
     "output_type": "error",
     "traceback": [
      "\u001b[0;31m---------------------------------------------------------------------------\u001b[0m",
      "\u001b[0;31mModuleNotFoundError\u001b[0m                       Traceback (most recent call last)",
      "\u001b[0;32m/tmp/ipykernel_521196/3423596292.py\u001b[0m in \u001b[0;36m<module>\u001b[0;34m\u001b[0m\n\u001b[1;32m      3\u001b[0m \u001b[0;31m#  the bicycle in a figure 8 trajectory\u001b[0m\u001b[0;34m\u001b[0m\u001b[0;34m\u001b[0m\u001b[0;34m\u001b[0m\u001b[0m\n\u001b[1;32m      4\u001b[0m \u001b[0;34m\u001b[0m\u001b[0m\n\u001b[0;32m----> 5\u001b[0;31m \u001b[0;32mfrom\u001b[0m \u001b[0mnotebook_grader\u001b[0m \u001b[0;32mimport\u001b[0m \u001b[0mBicycleSolution\u001b[0m\u001b[0;34m,\u001b[0m \u001b[0mgrade_bicycle\u001b[0m\u001b[0;34m\u001b[0m\u001b[0;34m\u001b[0m\u001b[0m\n\u001b[0m\u001b[1;32m      6\u001b[0m \u001b[0;32mimport\u001b[0m \u001b[0mnumpy\u001b[0m \u001b[0;32mas\u001b[0m \u001b[0mnp\u001b[0m\u001b[0;34m\u001b[0m\u001b[0;34m\u001b[0m\u001b[0m\n\u001b[1;32m      7\u001b[0m \u001b[0;32mimport\u001b[0m \u001b[0mmatplotlib\u001b[0m\u001b[0;34m.\u001b[0m\u001b[0mpyplot\u001b[0m \u001b[0;32mas\u001b[0m \u001b[0mplt\u001b[0m\u001b[0;34m\u001b[0m\u001b[0;34m\u001b[0m\u001b[0m\n",
      "\u001b[0;31mModuleNotFoundError\u001b[0m: No module named 'notebook_grader'"
     ]
    }
   ],
   "source": [
    "# Implementing the kinematic bicycle model:\n",
    "# This model accepts velocity and steerng rate inputs to drive \n",
    "#  the bicycle in a figure 8 trajectory\n",
    "\n",
    "from notebook_grader import BicycleSolution, grade_bicycle\n",
    "import numpy as np\n",
    "import matplotlib.pyplot as plt\n",
    "import matplotlib.image as mpimg\n",
    "\n",
    "class Bicycle():\n",
    "    def __init__(self):\n",
    "        # the bicycle begins with zero initial conditions:\n",
    "        self.xc = 0\n",
    "        self.yc = 0\n",
    "        self.theta = 0 # 𝜃\n",
    "        self.delta = 0 # 𝛿\n",
    "        self.beta = 0  # 𝛽\n",
    "        \n",
    "        self.L = 2          # wheelbase length (m)\n",
    "        self.lr = 1.2       # length from center of mass to the rear axel\n",
    "        self.w_max = 1.222  # max turning rate (rad/s)\n",
    "        \n",
    "        # sample time: 10 milliseconds default\n",
    "        self.sample_time = 0.01\n",
    "        \n",
    "    # reset all state variables back to 0\n",
    "    def reset(self):\n",
    "        self.xc = 0\n",
    "        self.yc = 0\n",
    "        self.theta = 0\n",
    "        self.delta = 0\n",
    "        self.beta = 0"
   ]
  },
  {
   "cell_type": "code",
   "execution_count": 1,
   "id": "2fadf581-ffae-43c8-a815-aefb3b72e1fc",
   "metadata": {},
   "outputs": [
    {
     "ename": "NameError",
     "evalue": "name 'Bicycle' is not defined",
     "output_type": "error",
     "traceback": [
      "\u001b[0;31m---------------------------------------------------------------------------\u001b[0m",
      "\u001b[0;31mNameError\u001b[0m                                 Traceback (most recent call last)",
      "\u001b[0;32m/tmp/ipykernel_33056/4087420920.py\u001b[0m in \u001b[0;36m<module>\u001b[0;34m\u001b[0m\n\u001b[0;32m----> 1\u001b[0;31m \u001b[0;32mclass\u001b[0m \u001b[0mBicycle\u001b[0m\u001b[0;34m(\u001b[0m\u001b[0mBicycle\u001b[0m\u001b[0;34m)\u001b[0m\u001b[0;34m:\u001b[0m\u001b[0;34m\u001b[0m\u001b[0;34m\u001b[0m\u001b[0m\n\u001b[0m\u001b[1;32m      2\u001b[0m     \u001b[0;31m# ( , velocity, steering angle)\u001b[0m\u001b[0;34m\u001b[0m\u001b[0;34m\u001b[0m\u001b[0;34m\u001b[0m\u001b[0m\n\u001b[1;32m      3\u001b[0m     \u001b[0;32mdef\u001b[0m \u001b[0mstep\u001b[0m\u001b[0;34m(\u001b[0m\u001b[0mself\u001b[0m\u001b[0;34m,\u001b[0m \u001b[0mv\u001b[0m\u001b[0;34m,\u001b[0m \u001b[0mw\u001b[0m\u001b[0;34m)\u001b[0m\u001b[0;34m:\u001b[0m\u001b[0;34m\u001b[0m\u001b[0;34m\u001b[0m\u001b[0m\n\u001b[1;32m      4\u001b[0m         \u001b[0;31m# ==================================\u001b[0m\u001b[0;34m\u001b[0m\u001b[0;34m\u001b[0m\u001b[0;34m\u001b[0m\u001b[0m\n\u001b[1;32m      5\u001b[0m         \u001b[0;31m#  Implement kinematic model here\u001b[0m\u001b[0;34m\u001b[0m\u001b[0;34m\u001b[0m\u001b[0;34m\u001b[0m\u001b[0m\n",
      "\u001b[0;31mNameError\u001b[0m: name 'Bicycle' is not defined"
     ]
    }
   ],
   "source": [
    "class Bicycle(Bicycle):\n",
    "    # ( , velocity, steering angle)\n",
    "    def step(self, v, w):\n",
    "        # ==================================\n",
    "        #  Implement kinematic model here\n",
    "        #  The function should take speed + angular rate as inputs \n",
    "        #  ... and update the state variables. \n",
    "        #  Don't forget about the maximum turn rate on the bicycle!\n",
    "        # ==================================\n",
    "        \n",
    "        # limiting max turn rate\n",
    "        if w<0:\n",
    "            w = max(w, -self.w_max)\n",
    "        else:\n",
    "            w = min(w, self.w_max)\n",
    "            \n",
    "        # bicycle kinematic equations\n",
    "        x_dot_c = v*np.cos(self.theta + self.beta)\n",
    "        y_dot_c = v*np.sin(self.theta + self.beta)\n",
    "        theta_dot = (v*(np.cos(self.beta)*np.tan(self.delta)))/self.L\n",
    "        delta_dot = w\n",
    "        \n",
    "        self.beta = np.arctan((self.lr*np.tan(self.delta))/L)\n",
    "        \n",
    "        # update kinematic equations with sample time\n",
    "        self.xc += x_dot_c * self.sample_time\n",
    "        self.yc += y_dot_c * self.sample_time\n",
    "        self.theta += theta_dot * self.sample_time\n",
    "        self.delta += delta_dot * self.sample_time\n",
    "        \n",
    "        pass"
   ]
  },
  {
   "cell_type": "markdown",
   "id": "6463053b-a9f9-4182-8585-47f54c605554",
   "metadata": {},
   "source": [
    "With the model setup, we can now start giving bicycle inputs and producing trajectories. \n",
    "\n",
    "Suppose we want the model to travel a circle of radius 10 m in 20 seconds. Using the relationship between the radius of curvature and the steering angle, the desired steering angle can be computed.\n",
    "\n",
    "\\begin{align*}\n",
    "    \\tan{\\delta} &= \\frac{L}{r} \\\\\n",
    "    \\delta &= \\tan^{-1}(\\frac{L}{r}) \\\\\n",
    "           &= \\tan^{-1}(\\frac{2}{10}) \\\\\n",
    "           &= 0.1974\n",
    "\\end{align*}\n",
    "\n",
    "If the steering angle is directly set to 0.1974 using a simplied bicycled model, then the bicycle will travel in a circle without requiring any additional steering input. \n",
    "\n",
    "The desired speed can be computed from the circumference of the circle:\n",
    "\n",
    "\\begin{align*}\n",
    "    v &= \\frac{d}{t}\\\\\n",
    "     &= \\frac{2 \\pi 10}{20}\\\\\n",
    "     &= \\pi\n",
    "\\end{align*}\n",
    "\n",
    "We can now implement this in a loop to step through the model equations. We will also run our bicycle model solution along with your model to show you the expected trajectory. This will help you verify the correctness of your model."
   ]
  },
  {
   "cell_type": "code",
   "execution_count": 6,
   "id": "87902c97-c8f5-47b3-ade3-a0962bd7d296",
   "metadata": {},
   "outputs": [
    {
     "ename": "NameError",
     "evalue": "name 'solution_model' is not defined",
     "output_type": "error",
     "traceback": [
      "\u001b[0;31m---------------------------------------------------------------------------\u001b[0m",
      "\u001b[0;31mNameError\u001b[0m                                 Traceback (most recent call last)",
      "\u001b[0;32m/tmp/ipykernel_521196/859569688.py\u001b[0m in \u001b[0;36m<module>\u001b[0;34m\u001b[0m\n\u001b[1;32m      6\u001b[0m \u001b[0;31m# set delta directly\u001b[0m\u001b[0;34m\u001b[0m\u001b[0;34m\u001b[0m\u001b[0;34m\u001b[0m\u001b[0m\n\u001b[1;32m      7\u001b[0m \u001b[0mmodel\u001b[0m\u001b[0;34m.\u001b[0m\u001b[0mdelta\u001b[0m \u001b[0;34m=\u001b[0m \u001b[0mnp\u001b[0m\u001b[0;34m.\u001b[0m\u001b[0marctan\u001b[0m\u001b[0;34m(\u001b[0m\u001b[0;36m2\u001b[0m\u001b[0;34m/\u001b[0m\u001b[0;36m10\u001b[0m\u001b[0;34m)\u001b[0m\u001b[0;34m\u001b[0m\u001b[0;34m\u001b[0m\u001b[0m\n\u001b[0;32m----> 8\u001b[0;31m \u001b[0msolution_model\u001b[0m\u001b[0;34m.\u001b[0m\u001b[0mdelta\u001b[0m \u001b[0;34m=\u001b[0m \u001b[0mnp\u001b[0m\u001b[0;34m.\u001b[0m\u001b[0marctan\u001b[0m\u001b[0;34m(\u001b[0m\u001b[0;36m2\u001b[0m\u001b[0;34m/\u001b[0m\u001b[0;36m10\u001b[0m\u001b[0;34m)\u001b[0m\u001b[0;34m\u001b[0m\u001b[0;34m\u001b[0m\u001b[0m\n\u001b[0m\u001b[1;32m      9\u001b[0m \u001b[0;34m\u001b[0m\u001b[0m\n\u001b[1;32m     10\u001b[0m \u001b[0mt_data\u001b[0m \u001b[0;34m=\u001b[0m \u001b[0mnp\u001b[0m\u001b[0;34m.\u001b[0m\u001b[0marange\u001b[0m\u001b[0;34m(\u001b[0m\u001b[0;36m0\u001b[0m\u001b[0;34m,\u001b[0m\u001b[0mtime_end\u001b[0m\u001b[0;34m,\u001b[0m\u001b[0msample_time\u001b[0m\u001b[0;34m)\u001b[0m\u001b[0;34m\u001b[0m\u001b[0;34m\u001b[0m\u001b[0m\n",
      "\u001b[0;31mNameError\u001b[0m: name 'solution_model' is not defined"
     ]
    }
   ],
   "source": [
    "# v => Bicycle speed\n",
    "# 𝜔 => Steering angle rate\n",
    "# 𝛿 => Steering angle (Model allows for angle and rate)\n",
    "\n",
    "sample_time = 0.01  # sampling frequency\n",
    "time_end = 20       # Time(sec) - complete the circle in 20 sec \n",
    "\n",
    "model = Bicycle()   \n",
    "solution_model = BicycleSolution() # \n",
    "\n",
    "# set delta directly\n",
    "model.delta = np.arctan(2/10)\n",
    "solution_model.delta = np.arctan(2/10)\n",
    "\n",
    "t_data = np.arange(0,time_end,sample_time) # (start, stop, step) 0->20 in 0.01 increments\n",
    "x_data = np.zeros_like(t_data)             # return arrays with 0s - our data\n",
    "y_data = np.zeros_like(t_data)             \n",
    "x_solution = np.zeros_like(t_data)         # return arrays with 0s - solution data\n",
    "y_solution = np.zeros_like(t_data)\n",
    "\n",
    "for i in range(t_data.shape[0]):           # .shape[0] = # of rows ---- .shape[1] = # of columns\n",
    "    x_data[i] = model.xc                   # v*np.cos(self.theta + self.beta)\n",
    "    y_data[i] = model.yc                   # v*np.sin(self.theta + self.beta)\n",
    "    model.step(np.pi, 0)\n",
    "    \n",
    "    x_solution[i] = solution_model.xc\n",
    "    y_solution[i] = solution_model.yc\n",
    "    solution_model.step(np.pi, 0)\n",
    "    \n",
    "    #model.beta = 0\n",
    "    #solution_model.beta=0\n",
    "    \n",
    "plt.axis('equal')\n",
    "plt.plot(x_data, y_data,label='Learner Model')\n",
    "plt.plot(x_solution, y_solution,label='Solution Model')\n",
    "plt.legend()\n",
    "plt.show()"
   ]
  },
  {
   "cell_type": "markdown",
   "id": "6efe6973-e312-41eb-8c6f-f914c92e53a3",
   "metadata": {},
   "source": [
    "The plot above shows the desired circle of 10m radius. The path is slightly offset which is caused by the sideslip effects due to $\\beta$. By forcing $\\beta = 0$ through uncommenting the last line in the loop, you can see that the offset disappears and the circle becomes centered at (0,10). \n",
    "\n",
    "However, in practice the steering angle cannot be directly set and must be changed through angular rate inputs $\\omega$. The cell below corrects for this and sets angular rate inputs to generate the same circle trajectory. The speed $v$ is still maintained at $\\pi$ m/s.\n"
   ]
  },
  {
   "cell_type": "code",
   "execution_count": null,
   "id": "4ae60652-5c8d-4cc4-ab8c-546e08cc1e92",
   "metadata": {},
   "outputs": [],
   "source": [
    "sample_time = 0.01\n",
    "time_end = 20\n",
    "model.reset()\n",
    "solution_model.reset()\n",
    "\n",
    "t_data = np.arange(0,time_end,sample_time)\n",
    "x_data = np.zeros_like(t_data)\n",
    "y_data = np.zeros_like(t_data)\n",
    "x_solution = np.zeros_like(t_data)\n",
    "y_solution = np.zeros_like(t_data)\n",
    "\n",
    "for i in range(t_data.shape[0]):\n",
    "    x_data[i] = model.xc\n",
    "    y_data[i] = model.yc\n",
    "    \n",
    "    if model.delta < np.arctan(2/10):\n",
    "        model.step(np.pi, model.w_max)\n",
    "    else:\n",
    "        model.step(np.pi, 0)\n",
    "        \n",
    "    x_solution[i] = solution_model.xc\n",
    "    y_solution[i] = solution_model.yc\n",
    "    \n",
    "    if solution_model.delta < np.arctan(2/10):\n",
    "        solution_model.step(np.pi, model.w_max)\n",
    "    else:\n",
    "        solution_model.step(np.pi, 0)    \n",
    "\n",
    "plt.axis('equal')\n",
    "plt.plot(x_data, y_data,label='Learner Model')\n",
    "plt.plot(x_solution, y_solution,label='Solution Model')\n",
    "plt.legend()\n",
    "plt.show()"
   ]
  },
  {
   "cell_type": "code",
   "execution_count": null,
   "id": "e4bba15a-0a26-482f-af54-d805cb6a088f",
   "metadata": {},
   "outputs": [],
   "source": [
    "# Here are some other example trajectories: \n",
    "#  a square path\n",
    "#  a spiral path\n",
    "#  a wave path \n",
    "#  ...uncomment each section to view.\n",
    "sample_time = 0.01\n",
    "time_end = 60\n",
    "model.reset()\n",
    "solution_model.reset()\n",
    "\n",
    "t_data = np.arange(0,time_end,sample_time)\n",
    "x_data = np.zeros_like(t_data)\n",
    "y_data = np.zeros_like(t_data)\n",
    "x_solution = np.zeros_like(t_data)\n",
    "y_solution = np.zeros_like(t_data)\n",
    "\n",
    "# maintain velocity at 4 m/s\n",
    "v_data = np.zeros_like(t_data)\n",
    "v_data[:] = 4 \n",
    "\n",
    "w_data = np.zeros_like(t_data)\n",
    "\n",
    "# ==================================\n",
    "#  Square Path: set w at corners only\n",
    "# ==================================\n",
    "w_data[670:670+100] = 0.753\n",
    "w_data[670+100:670+100*2] = -0.753\n",
    "w_data[2210:2210+100] = 0.753\n",
    "w_data[2210+100:2210+100*2] = -0.753\n",
    "w_data[3670:3670+100] = 0.753\n",
    "w_data[3670+100:3670+100*2] = -0.753\n",
    "w_data[5220:5220+100] = 0.753\n",
    "w_data[5220+100:5220+100*2] = -0.753\n",
    "\n",
    "# ==================================\n",
    "#  Spiral Path: high positive w, then small negative w\n",
    "# ==================================\n",
    "# w_data[:] = -1/100\n",
    "# w_data[0:100] = 1\n",
    "\n",
    "# ==================================\n",
    "#  Wave Path: square wave w input\n",
    "# ==================================\n",
    "#w_data[:] = 0\n",
    "#w_data[0:100] = 1\n",
    "#w_data[100:300] = -1\n",
    "#w_data[300:500] = 1\n",
    "#w_data[500:5700] = np.tile(w_data[100:500], 13)\n",
    "#w_data[5700:] = -1\n",
    "\n",
    "# ==================================\n",
    "#  Step through bicycle model\n",
    "# ==================================\n",
    "for i in range(t_data.shape[0]):\n",
    "    x_data[i] = model.xc\n",
    "    y_data[i] = model.yc\n",
    "    model.step(v_data[i], w_data[i])\n",
    "\n",
    "    x_solution[i] = solution_model.xc\n",
    "    y_solution[i] = solution_model.yc\n",
    "    solution_model.step(v_data[i], w_data[i])\n",
    "    \n",
    "plt.axis('equal')\n",
    "plt.plot(x_data, y_data,label='Learner Model')\n",
    "plt.plot(x_solution, y_solution,label='Solution Model')\n",
    "plt.legend()\n",
    "plt.show()"
   ]
  },
  {
   "cell_type": "markdown",
   "id": "69157d69-2c07-4d40-a9f9-c4793213584a",
   "metadata": {},
   "source": [
    "We would now like the bicycle to travel a figure eight trajectory. Both circles in the figure eight have a radius of 8m and the path should complete in 30 seconds. The path begins at the bottom of the left circle and is shown in the figure below:\n",
    "\n",
    "Determine the speed and steering rate inputs required to produce such trajectory and implement in the cell below. Make sure to also save your inputs into the arrays v_data and w_data, these will be used to grade your solution. The cell below also plots the trajectory generated by your own model."
   ]
  },
  {
   "cell_type": "code",
   "execution_count": 11,
   "id": "bf5358c8-c1b1-4209-b703-962ab5b60a8c",
   "metadata": {
    "collapsed": true,
    "jupyter": {
     "outputs_hidden": true
    },
    "tags": []
   },
   "outputs": [
    {
     "ename": "NameError",
     "evalue": "name 'L' is not defined",
     "output_type": "error",
     "traceback": [
      "\u001b[0;31m---------------------------------------------------------------------------\u001b[0m",
      "\u001b[0;31mNameError\u001b[0m                                 Traceback (most recent call last)",
      "\u001b[0;32m/tmp/ipykernel_521196/2328762757.py\u001b[0m in \u001b[0;36m<module>\u001b[0;34m\u001b[0m\n\u001b[1;32m     48\u001b[0m         \u001b[0;31m# compare delta value to desired/expected value ... tolerance of .001\u001b[0m\u001b[0;34m\u001b[0m\u001b[0;34m\u001b[0m\u001b[0;34m\u001b[0m\u001b[0m\n\u001b[1;32m     49\u001b[0m         \u001b[0;32mif\u001b[0m \u001b[0mabs\u001b[0m\u001b[0;34m(\u001b[0m\u001b[0mmodel\u001b[0m\u001b[0;34m.\u001b[0m\u001b[0mdelta\u001b[0m \u001b[0;34m-\u001b[0m \u001b[0mnp\u001b[0m\u001b[0;34m.\u001b[0m\u001b[0marctan\u001b[0m\u001b[0;34m(\u001b[0m\u001b[0;36m2\u001b[0m\u001b[0;34m/\u001b[0m\u001b[0;36m8\u001b[0m\u001b[0;34m)\u001b[0m\u001b[0;34m)\u001b[0m \u001b[0;34m>\u001b[0m \u001b[0;36m0.001\u001b[0m\u001b[0;34m:\u001b[0m \u001b[0;31m# delta = arctan(L/r)\u001b[0m\u001b[0;34m\u001b[0m\u001b[0;34m\u001b[0m\u001b[0m\n\u001b[0;32m---> 50\u001b[0;31m             \u001b[0mmodel\u001b[0m\u001b[0;34m.\u001b[0m\u001b[0mstep\u001b[0m\u001b[0;34m(\u001b[0m\u001b[0mv_data\u001b[0m\u001b[0;34m[\u001b[0m\u001b[0mi\u001b[0m\u001b[0;34m]\u001b[0m\u001b[0;34m,\u001b[0m \u001b[0mmodel\u001b[0m\u001b[0;34m.\u001b[0m\u001b[0mw_max\u001b[0m\u001b[0;34m)\u001b[0m \u001b[0;31m# give (speed, steering angle)\u001b[0m\u001b[0;34m\u001b[0m\u001b[0;34m\u001b[0m\u001b[0m\n\u001b[0m\u001b[1;32m     51\u001b[0m             \u001b[0mw_data\u001b[0m\u001b[0;34m[\u001b[0m\u001b[0mi\u001b[0m\u001b[0;34m]\u001b[0m \u001b[0;34m=\u001b[0m \u001b[0mmodel\u001b[0m\u001b[0;34m.\u001b[0m\u001b[0mw_max\u001b[0m \u001b[0;31m# set steering angle to max\u001b[0m\u001b[0;34m\u001b[0m\u001b[0;34m\u001b[0m\u001b[0m\n\u001b[1;32m     52\u001b[0m         \u001b[0;32melse\u001b[0m\u001b[0;34m:\u001b[0m\u001b[0;34m\u001b[0m\u001b[0;34m\u001b[0m\u001b[0m\n",
      "\u001b[0;32m/tmp/ipykernel_521196/3945608305.py\u001b[0m in \u001b[0;36mstep\u001b[0;34m(self, v, w)\u001b[0m\n\u001b[1;32m     21\u001b[0m         \u001b[0mdelta_dot\u001b[0m \u001b[0;34m=\u001b[0m \u001b[0mw\u001b[0m\u001b[0;34m\u001b[0m\u001b[0;34m\u001b[0m\u001b[0m\n\u001b[1;32m     22\u001b[0m \u001b[0;34m\u001b[0m\u001b[0m\n\u001b[0;32m---> 23\u001b[0;31m         \u001b[0mself\u001b[0m\u001b[0;34m.\u001b[0m\u001b[0mbeta\u001b[0m \u001b[0;34m=\u001b[0m \u001b[0mnp\u001b[0m\u001b[0;34m.\u001b[0m\u001b[0marctan\u001b[0m\u001b[0;34m(\u001b[0m\u001b[0;34m(\u001b[0m\u001b[0mself\u001b[0m\u001b[0;34m.\u001b[0m\u001b[0mlr\u001b[0m\u001b[0;34m*\u001b[0m\u001b[0mnp\u001b[0m\u001b[0;34m.\u001b[0m\u001b[0mtan\u001b[0m\u001b[0;34m(\u001b[0m\u001b[0mself\u001b[0m\u001b[0;34m.\u001b[0m\u001b[0mdelta\u001b[0m\u001b[0;34m)\u001b[0m\u001b[0;34m)\u001b[0m\u001b[0;34m/\u001b[0m\u001b[0mL\u001b[0m\u001b[0;34m)\u001b[0m\u001b[0;34m\u001b[0m\u001b[0;34m\u001b[0m\u001b[0m\n\u001b[0m\u001b[1;32m     24\u001b[0m \u001b[0;34m\u001b[0m\u001b[0m\n\u001b[1;32m     25\u001b[0m         \u001b[0;31m# update kinematic equations with sample time\u001b[0m\u001b[0;34m\u001b[0m\u001b[0;34m\u001b[0m\u001b[0;34m\u001b[0m\u001b[0m\n",
      "\u001b[0;31mNameError\u001b[0m: name 'L' is not defined"
     ]
    }
   ],
   "source": [
    "# Implementing the kinematic bicycle model:\n",
    "# This model accepts velocity and steerng rate inputs to drive \n",
    "#  the bicycle in a figure 8 trajectory\n",
    "\n",
    "# Things to remember:\n",
    "#  model of w_data[i] - inputs = v, beta, delta, L\n",
    "#  model of delta (inputs = w, sample_time)\n",
    "#  pay attention to when w>0 and when w<0\n",
    "\n",
    "# So... time 0->30 with iterations of 0.01 sec = 3000 points/8 = 375 points\n",
    "\n",
    "# Speec (v) is constant, so just control the steering angle(w)\n",
    "\n",
    "# Remember these are the values from, Bicycle() ie: model()\n",
    "# self.L = 2        # wheelbase length of 2m\n",
    "# self.lr = 1.2     # bicycle length\n",
    "# self.w_max = 1.22 # max turn radius (rad/s)\n",
    "        \n",
    "sample_time = 0.01\n",
    "time_end = 30\n",
    "model.reset()\n",
    "\n",
    "t_data = np.arange(0,time_end,sample_time)\n",
    "x_data = np.zeros_like(t_data)\n",
    "y_data = np.zeros_like(t_data)\n",
    "\n",
    "v_data = np.zeros_like(t_data)\n",
    "w_data = np.zeros_like(t_data)\n",
    "\n",
    "# ==================================\n",
    "#  Learner solution begins here\n",
    "# ==================================\n",
    "radius = 8\n",
    "diameter = 16\n",
    "\n",
    "# Velocity(m/s), constant throughout figure 8\n",
    "v_data[:] = (diameter * 2 * np.pi) / time_end\n",
    "\n",
    "for i in range(t_data.shape[0]):  # .shape[0] = # of rows --- .shape[1] = # of columns\n",
    "    x_data[i] = model.xc          # v*np.cos(self.theta + self.beta)\n",
    "    y_data[i] = model.yc          # v*np.sin(self.theta + self.beta)\n",
    "    \n",
    "    # Starting at 0,0 and turning at 375 and 1875\n",
    "    # time 0 to 30, iterations of 0.01 sec, = 3000 points\n",
    "    #  3000/8 = 375 pts per 1/4 of the circle\n",
    "    # ... must turn at 368 b/c time needed to turn (guess n' test)\n",
    "    if i < 368 or i > 1875:\n",
    "        # compare delta value to desired/expected value ... tolerance of .001\n",
    "        if abs(model.delta - np.arctan(2/8)) > 0.001: # delta = arctan(L/r)\n",
    "            model.step(v_data[i], model.w_max) # give (speed, steering angle)\n",
    "            w_data[i] = model.w_max # set steering angle to max\n",
    "        else:\n",
    "            model.step(v_data[i], 0)\n",
    "            w_data[i] = 0\n",
    "    \n",
    "    # Draw the bottom right corner of the 1st circle\n",
    "    #  ... then draw the right circle\n",
    "    if i > 368 and i < 1875:\n",
    "        if abs(model.delta - (-np.arctan(2/8))) > 0.001:\n",
    "            model.step(v_data[i], -model.w_max)\n",
    "            w_data[i] = -model.w_max\n",
    "        else:\n",
    "            model.step(v_data[i],0)\n",
    "            w_data[i] = 0\n",
    "            \n",
    "    model.beta = 0 # force beta to zero\n",
    "    \n",
    "# ==================================\n",
    "#  Learner solution ends here\n",
    "# ==================================\n",
    "plt.figure(figsize=(20,10))\n",
    "plt.axis('equal')\n",
    "plt.plot(x_data, y_data)\n",
    "plt.grid()\n",
    "plt.xticks([-8,-4,0,4,8,12,16,20,24])\n",
    "plt.yticks([0,4,8,12,16])\n",
    "plt.show()"
   ]
  },
  {
   "cell_type": "markdown",
   "id": "67ac5d2e-8ac8-4e0d-984c-845fb4ff13f0",
   "metadata": {},
   "source": [
    "<img src= \"https://i.imgur.com/QuQVEMk.png\" width= \"650\">"
   ]
  },
  {
   "cell_type": "markdown",
   "id": "159e6061-0de3-4fe6-8654-fc6ee3264814",
   "metadata": {},
   "source": [
    "Assessment passed! Your trajectory meets 100.0% of the waypoints.<br>\n",
    "<img src= \"https://i.imgur.com/OBH9kcO.png\" width= \"450\">"
   ]
  },
  {
   "cell_type": "markdown",
   "id": "e8848126-4644-42be-a5ee-2f3984eb6b36",
   "metadata": {},
   "source": [
    "We will now run your speed and angular rate inputs through our bicycle model solution. This is to ensure that your trajectory is correct along with your model. The cell below will display the path generated by our model along with some waypoints on a desired figure 8. Surrounding these waypoints are error tolerance circles with radius 1.5m, your solution will pass the grader if the trajectory generated stays within 80% of these circles."
   ]
  },
  {
   "cell_type": "code",
   "execution_count": null,
   "id": "1143efdf-7b03-4f96-bf19-fe8b060e6f17",
   "metadata": {},
   "outputs": [],
   "source": [
    "grade_bicycle(t_data,v_data,w_data)"
   ]
  },
  {
   "cell_type": "markdown",
   "id": "01378713-0c4b-4c87-8c45-50ea9ed9e249",
   "metadata": {},
   "source": [
    "The cell below will save the time and vehicle inputs as text file named  figure8.txt . To locate the file, change the end of your web directory to  /notebooks/Course_1_Module_4/figure8.txt \n",
    "Once you are there, you can download the file and submit to the Coursera grader to complete this assessment."
   ]
  },
  {
   "cell_type": "code",
   "execution_count": null,
   "id": "930950e0-e767-4f08-a805-ac98aea0b6ed",
   "metadata": {},
   "outputs": [],
   "source": [
    "data = np.vstack([t_data, v_data, w_data]).T\n",
    "np.savetxt('figure8.txt', data, delimiter=', ')"
   ]
  },
  {
   "cell_type": "markdown",
   "id": "f35a795a-3ad2-4f10-9695-f88423d99263",
   "metadata": {},
   "source": [
    "Congratulations! You have now completed the assessment! Feel free to test the bicycle model with different inputs in the cell below, and see what trajectories they form. For example, try moving in an equilateral triangle. You'll find that it's rather difficult to generate desired trajectories by pre-setting the inputs. The next module on vehicle control will show you an easier and more accurate method. See you there!"
   ]
  },
  {
   "cell_type": "code",
   "execution_count": null,
   "id": "17abc0ac-a546-4d9e-829d-a0faf886c246",
   "metadata": {},
   "outputs": [],
   "source": [
    "sample_time = 0.01\n",
    "time_end = 30\n",
    "model.reset()\n",
    "\n",
    "t_data = np.arange(0,time_end,sample_time)\n",
    "x_data = np.zeros_like(t_data)\n",
    "y_data = np.zeros_like(t_data)\n",
    "v_data = np.zeros_like(t_data)\n",
    "w_data = np.zeros_like(t_data)\n",
    "\n",
    "# ==================================\n",
    "#  Test various inputs here\n",
    "# ==================================\n",
    "for i in range(t_data.shape[0]):\n",
    "\n",
    "    model.step(v_data[i], w_data[i])\n",
    "    \n",
    "plt.axis('equal')\n",
    "plt.plot(x_data, y_data)\n",
    "plt.show()"
   ]
  },
  {
   "cell_type": "markdown",
   "id": "a0969d25-9d7d-402e-b8d4-56f3fbd72057",
   "metadata": {},
   "source": [
    "---"
   ]
  },
  {
   "cell_type": "markdown",
   "id": "020598f5-8039-4e3c-9f3b-b7bbef3340f1",
   "metadata": {},
   "source": [
    "### <u>Dynamic Vehicle Modeling in 2D</u>"
   ]
  },
  {
   "cell_type": "markdown",
   "id": "567e5832-a1aa-46a4-a43e-8aadde3769f1",
   "metadata": {},
   "source": [
    "<b>In this section, we will move into the realm of dynamic modeling. To start taking into account the forces and moments acting on the vehicle.</b>\n",
    "\n",
    "<b>This type of model can lead to higher fidelity predictions, at the cost of computational expense. Than are possible with kinematic models. </b>\n",
    "\n",
    "Accounting for and modeling the balance of forces during slip conditions can expand the set of driving conditions for which our models can remain as an accurate prediction of motion."
   ]
  },
  {
   "cell_type": "markdown",
   "id": "74bfbaa7-0829-43a7-8b06-1c6ac1f553c7",
   "metadata": {},
   "source": [
    "<b><u>Defining the dynamic modeling task for a rigid body:</u></b><br>\n",
    "<img src=\"https://i.imgur.com/vuTPKDu.png\" width= \"550\"><br>\n",
    "- Setup the coordinate frames; body and inertial frames\n",
    "- Break down the dynamic system into lumped dynamic elements\n",
    "    - In the case of a spring mass damper the lump elements would be the spring, the mass, and the damper.\n",
    "- We also define a model for each lumped element.\n",
    "    - The linear spring provides a force proportional to its displacment from a resting position.\n",
    "- Sketch the free body diagram for each rigid body in the list of elements and properly name and model all the forces and moments acting on the body.\n",
    "- Finally, by using Newton's second law, we write the mathematical equations that define our dynamic model, summing all forces along each axis for translational dynamics. In all moments about each rotational axis for rotational dynamics.\n",
    "\n",
    "<b>The result is an ordinary differential equation describing the motion of our rigid body and this is our dynamic model.</b>"
   ]
  },
  {
   "cell_type": "markdown",
   "id": "ad8b6a4a-5aeb-4f31-8b53-db7441a3b9c7",
   "metadata": {},
   "source": [
    "---"
   ]
  },
  {
   "cell_type": "markdown",
   "id": "dd53677c-46cf-4afb-a052-9d6dd5b39508",
   "metadata": {},
   "source": [
    "TODO:\n",
    "- Example given of a vehicle shock absorber suspension system\n",
    "- Example given of a \"Tire Model\" - tire physics\n",
    "- Considering vehicle dynamics of vehicle longitudinal motion\n",
    "- Considering vehicle lateral motion"
   ]
  },
  {
   "cell_type": "markdown",
   "id": "68d352e8-0866-48b4-b6c6-1f1c50dc0c7c",
   "metadata": {},
   "source": [
    "---"
   ]
  },
  {
   "cell_type": "markdown",
   "id": "2d3083fe-b871-41ad-b886-f3d2d157f5e5",
   "metadata": {},
   "source": [
    "### <u>Dynamic Vehicle Modeling in 2D</u>"
   ]
  },
  {
   "cell_type": "markdown",
   "id": "3e57bd76-e4ba-4255-b010-db738cc1d243",
   "metadata": {},
   "source": [
    "Goals for this section:\n",
    "- Learn how to define the balance of dynamic forces acting on a vehicle in the longitudinal direction.\n",
    "- Describe typical power train models for a combustion engine vehicle.\n",
    "- Connect the typical power train component models to create a full vehicle model for longitudinal motion.\n",
    "---\n",
    "http://link.springer.com/content/pdf/10.1007%2F978-1-4614-1433-9_4.pdf  \n",
    "\n",
    "---"
   ]
  },
  {
   "cell_type": "markdown",
   "id": "eb0aabd8-d626-4c8b-a9f8-e7ddfd4e1106",
   "metadata": {},
   "source": [
    "<img src=\"https://i.imgur.com/OIT0w2M.png\" width= \"700\"><br>"
   ]
  },
  {
   "cell_type": "markdown",
   "id": "db5deb86-39bf-4e6f-bde8-6ba369b8f97c",
   "metadata": {},
   "source": [
    "The simplified equation for the longitudinal motion of a car:  \n",
    "\n",
    "$\n",
    "\\begin{align*}\n",
    "mẍ = F_x - F_{aero} - R_x - mg\\alpha\n",
    "\\end{align*}\n",
    "$\n",
    "\n",
    "mẍ = Defines the vehicles' longitudinal acceleration  \n",
    "F<sub>x</sub> = The traction force generated by the power train  \n",
    "[F<sub>load</sub> = F<sub>aero</sub> - R<sub>x</sub> - mgα ] = Total of resistence forces acting on the vehicle"
   ]
  },
  {
   "cell_type": "markdown",
   "id": "9d0df6fc-b2fb-4e21-80da-fb4d9801b631",
   "metadata": {},
   "source": [
    "---"
   ]
  }
 ],
 "metadata": {
  "kernelspec": {
   "display_name": "Python 3 (ipykernel)",
   "language": "python",
   "name": "python3"
  },
  "language_info": {
   "codemirror_mode": {
    "name": "ipython",
    "version": 3
   },
   "file_extension": ".py",
   "mimetype": "text/x-python",
   "name": "python",
   "nbconvert_exporter": "python",
   "pygments_lexer": "ipython3",
   "version": "3.10.6"
  }
 },
 "nbformat": 4,
 "nbformat_minor": 5
}
